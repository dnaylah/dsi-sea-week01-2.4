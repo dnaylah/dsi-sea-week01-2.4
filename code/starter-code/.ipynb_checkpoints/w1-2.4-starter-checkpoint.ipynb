{
 "cells": [
  {
   "cell_type": "code",
   "execution_count": 6,
   "metadata": {
    "button": false,
    "collapsed": false,
    "deletable": true,
    "new_sheet": false,
    "run_control": {
     "read_only": false
    }
   },
   "outputs": [],
   "source": [
    "# Dictionary of movies\n",
    "\n",
    "movies = [\n",
    "{\n",
    "\"name\": \"Usual Suspects\", \n",
    "\"imdb\": 7.0,\n",
    "\"category\": \"Thriller\"\n",
    "},\n",
    "{\n",
    "\"name\": \"Hitman\",\n",
    "\"imdb\": 6.3,\n",
    "\"category\": \"Action\"\n",
    "},\n",
    "{\n",
    "\"name\": \"Dark Knight\",\n",
    "\"imdb\": 9.0,\n",
    "\"category\": \"Adventure\"\n",
    "},\n",
    "{\n",
    "\"name\": \"The Help\",\n",
    "\"imdb\": 8.0,\n",
    "\"category\": \"Drama\"\n",
    "},\n",
    "{\n",
    "\"name\": \"The Choice\",\n",
    "\"imdb\": 6.2,\n",
    "\"category\": \"Romance\"\n",
    "},\n",
    "{\n",
    "\"name\": \"Colonia\",\n",
    "\"imdb\": 7.4,\n",
    "\"category\": \"Romance\"\n",
    "},\n",
    "{\n",
    "\"name\": \"Love\",\n",
    "\"imdb\": 6.0,\n",
    "\"category\": \"Romance\"\n",
    "},\n",
    "{\n",
    "\"name\": \"Bride Wars\",\n",
    "\"imdb\": 5.4,\n",
    "\"category\": \"Romance\"\n",
    "},\n",
    "{\n",
    "\"name\": \"AlphaJet\",\n",
    "\"imdb\": 3.2,\n",
    "\"category\": \"War\"\n",
    "},\n",
    "{\n",
    "\"name\": \"Ringing Crime\",\n",
    "\"imdb\": 4.0,\n",
    "\"category\": \"Crime\"\n",
    "},\n",
    "{\n",
    "\"name\": \"Joking muck\",\n",
    "\"imdb\": 7.2,\n",
    "\"category\": \"Comedy\"\n",
    "},\n",
    "{\n",
    "\"name\": \"What is the name\",\n",
    "\"imdb\": 9.2,\n",
    "\"category\": \"Suspense\"\n",
    "},\n",
    "{\n",
    "\"name\": \"Detective\",\n",
    "\"imdb\": 7.0,\n",
    "\"category\": \"Suspense\"\n",
    "},\n",
    "{\n",
    "\"name\": \"Exam\",\n",
    "\"imdb\": 4.2,\n",
    "\"category\": \"Thriller\"\n",
    "},\n",
    "{\n",
    "\"name\": \"We Two\",\n",
    "\"imdb\": 7.2,\n",
    "\"category\": \"Romance\"\n",
    "}\n",
    "]"
   ]
  },
  {
   "cell_type": "code",
   "execution_count": 7,
   "metadata": {
    "button": false,
    "collapsed": false,
    "deletable": true,
    "new_sheet": false,
    "run_control": {
     "read_only": false
    }
   },
   "outputs": [],
   "source": [
    "# Write a function that takes a single movie and \n",
    "# returns True if its IMDB score is above 5.5\n",
    "\n",
    "def movie_score(movie):\n",
    "    for films in movies:\n",
    "        if films['name'] == movie and films['imdb'] > 5.5:\n",
    "            return True\n",
    "            \n",
    "movie_score(\"Exam\")"
   ]
  },
  {
   "cell_type": "code",
   "execution_count": 4,
   "metadata": {
    "button": false,
    "collapsed": false,
    "deletable": true,
    "new_sheet": false,
    "run_control": {
     "read_only": false
    }
   },
   "outputs": [
    {
     "data": {
      "text/plain": [
       "[{'category': 'Thriller', 'imdb': 7.0, 'name': 'Usual Suspects'},\n",
       " {'category': 'Action', 'imdb': 6.3, 'name': 'Hitman'},\n",
       " {'category': 'Adventure', 'imdb': 9.0, 'name': 'Dark Knight'},\n",
       " {'category': 'Drama', 'imdb': 8.0, 'name': 'The Help'},\n",
       " {'category': 'Romance', 'imdb': 6.2, 'name': 'The Choice'},\n",
       " {'category': 'Romance', 'imdb': 7.4, 'name': 'Colonia'},\n",
       " {'category': 'Romance', 'imdb': 6.0, 'name': 'Love'},\n",
       " {'category': 'Comedy', 'imdb': 7.2, 'name': 'Joking muck'},\n",
       " {'category': 'Suspense', 'imdb': 9.2, 'name': 'What is the name'},\n",
       " {'category': 'Suspense', 'imdb': 7.0, 'name': 'Detective'},\n",
       " {'category': 'Romance', 'imdb': 7.2, 'name': 'We Two'}]"
      ]
     },
     "execution_count": 4,
     "metadata": {},
     "output_type": "execute_result"
    }
   ],
   "source": [
    "# Write a function that returns a sublist of movies \n",
    "# with an IMDB score above 5.5.\n",
    "movie_list = []\n",
    "def movies_above():\n",
    "    for movie in movies:\n",
    "        if movie['imdb'] > 5.5:\n",
    "            movie_list.append(movie)\n",
    "    return movie_list\n",
    "movies_above()"
   ]
  },
  {
   "cell_type": "code",
   "execution_count": 3,
   "metadata": {
    "button": false,
    "collapsed": false,
    "deletable": true,
    "new_sheet": false,
    "run_control": {
     "read_only": false
    }
   },
   "outputs": [],
   "source": [
    "# Write a function that takes a category name and returns \n",
    "# just those movies under that category.\n",
    "movies_in_category = []\n",
    "def movies_from_category(category):\n",
    "    for movie in movies:\n",
    "        if movie['category'] == category:\n",
    "            movies_in_category.append(movie)\n",
    "    return movies_in_category\n",
    "\n",
    "movies_from_category('Romance')"
   ]
  },
  {
   "cell_type": "code",
   "execution_count": 4,
   "metadata": {
    "button": false,
    "collapsed": false,
    "deletable": true,
    "new_sheet": false,
    "run_control": {
     "read_only": false
    }
   },
   "outputs": [],
   "source": [
    "# Write a function that takes a list of movies and computes \n",
    "# the average IMDB score.\n",
    "\n",
    "def average_imdb_score(movies):\n",
    "    total = 0\n",
    "    for movie in movies:\n",
    "        total += movie['imdb']\n",
    "    total = total / len(movies)\n",
    "    return total\n",
    "\n",
    "average_imdb_score(movies)"
   ]
  },
  {
   "cell_type": "code",
   "execution_count": 1,
   "metadata": {
    "button": false,
    "collapsed": false,
    "deletable": true,
    "new_sheet": false,
    "run_control": {
     "read_only": false
    }
   },
   "outputs": [],
   "source": [
    "#Write a function that takes a category and computes \n",
    "# the average IMDB score\n",
    "\n",
    "def average_category_imdb_score(category):\n",
    "    total = 0\n",
    "    count = 0\n",
    "    for movie in movies:\n",
    "        if (movie['category'] == category):\n",
    "            total += movie['imdb']\n",
    "            count += 1\n",
    "    total = total / count\n",
    "    return total\n",
    "\n",
    "average_category_imdb_score('Romance')"
   ]
  },
  {
   "cell_type": "code",
   "execution_count": 1,
   "metadata": {
    "collapsed": false,
    "run_control": {}
   },
   "outputs": [
    {
     "ename": "NameError",
     "evalue": "global name 'movies' is not defined",
     "output_type": "error",
     "traceback": [
      "\u001b[0;31m---------------------------------------------------------------------------\u001b[0m",
      "\u001b[0;31mNameError\u001b[0m                                 Traceback (most recent call last)",
      "\u001b[0;32m<ipython-input-1-231f05d920c8>\u001b[0m in \u001b[0;36m<module>\u001b[0;34m()\u001b[0m\n\u001b[1;32m     12\u001b[0m     \u001b[0;32mreturn\u001b[0m \u001b[0mletters\u001b[0m\u001b[0;34m\u001b[0m\u001b[0m\n\u001b[1;32m     13\u001b[0m \u001b[0;34m\u001b[0m\u001b[0m\n\u001b[0;32m---> 14\u001b[0;31m \u001b[0mtop_3_letters\u001b[0m\u001b[0;34m(\u001b[0m\u001b[0;34m)\u001b[0m\u001b[0;34m\u001b[0m\u001b[0m\n\u001b[0m",
      "\u001b[0;32m<ipython-input-1-231f05d920c8>\u001b[0m in \u001b[0;36mtop_3_letters\u001b[0;34m()\u001b[0m\n\u001b[1;32m      4\u001b[0m \u001b[0;32mdef\u001b[0m \u001b[0mtop_3_letters\u001b[0m\u001b[0;34m(\u001b[0m\u001b[0;34m)\u001b[0m\u001b[0;34m:\u001b[0m\u001b[0;34m\u001b[0m\u001b[0m\n\u001b[1;32m      5\u001b[0m     \u001b[0mletters\u001b[0m \u001b[0;34m=\u001b[0m \u001b[0;34m{\u001b[0m\u001b[0;34m}\u001b[0m\u001b[0;34m\u001b[0m\u001b[0m\n\u001b[0;32m----> 6\u001b[0;31m     \u001b[0;32mfor\u001b[0m \u001b[0mmovie\u001b[0m \u001b[0;32min\u001b[0m \u001b[0mmovies\u001b[0m\u001b[0;34m:\u001b[0m\u001b[0;34m\u001b[0m\u001b[0m\n\u001b[0m\u001b[1;32m      7\u001b[0m         \u001b[0;32mfor\u001b[0m \u001b[0mchar\u001b[0m \u001b[0;32min\u001b[0m \u001b[0mmovie\u001b[0m\u001b[0;34m:\u001b[0m\u001b[0;34m\u001b[0m\u001b[0m\n\u001b[1;32m      8\u001b[0m             \u001b[0;32mif\u001b[0m \u001b[0mchar\u001b[0m \u001b[0;32mnot\u001b[0m \u001b[0;32min\u001b[0m \u001b[0mletters\u001b[0m\u001b[0;34m:\u001b[0m\u001b[0;34m\u001b[0m\u001b[0m\n",
      "\u001b[0;31mNameError\u001b[0m: global name 'movies' is not defined"
     ]
    }
   ],
   "source": [
    "#Return the top 3 most popular letters in all movie titles\n",
    "#Note: This cant be done in one line\n",
    "\n",
    "def top_3_letters():\n",
    "    letters = {}\n",
    "    for movie in movies:\n",
    "        for char in movie:\n",
    "            if char not in letters:\n",
    "                letters['char'] = 1\n",
    "            else:\n",
    "                letters['char'] += 1\n",
    "    return letters\n",
    "\n",
    "top_3_letters()"
   ]
  },
  {
   "cell_type": "code",
   "execution_count": null,
   "metadata": {
    "collapsed": true
   },
   "outputs": [],
   "source": []
  }
 ],
 "metadata": {
  "anaconda-cloud": {},
  "kernelspec": {
   "display_name": "Python [default]",
   "language": "python",
   "name": "python2"
  },
  "language_info": {
   "codemirror_mode": {
    "name": "ipython",
    "version": 2
   },
   "file_extension": ".py",
   "mimetype": "text/x-python",
   "name": "python",
   "nbconvert_exporter": "python",
   "pygments_lexer": "ipython2",
   "version": "2.7.12"
  }
 },
 "nbformat": 4,
 "nbformat_minor": 0
}
